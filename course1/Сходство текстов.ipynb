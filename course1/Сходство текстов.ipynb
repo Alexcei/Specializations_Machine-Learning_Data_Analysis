{
 "cells": [
  {
   "cell_type": "markdown",
   "metadata": {},
   "source": [
    "В этом задании вы познакомитесь с методом подсчета косинусного расстояния. Задача — найти два предложения, которые ближе всего по смыслу к расположенному в самой первой строке. В качестве меры близости по смыслу мы будем использовать косинусное расстояние."
   ]
  },
  {
   "cell_type": "code",
   "execution_count": 1,
   "metadata": {},
   "outputs": [],
   "source": [
    "import numpy as np\n",
    "import scipy.spatial\n",
    "import re\n",
    "from itertools import chain"
   ]
  },
  {
   "cell_type": "code",
   "execution_count": 15,
   "metadata": {},
   "outputs": [],
   "source": [
    "with open('text_for_w2.txt', 'r') as file_obj:\n",
    "    sentences = [line.strip().lower() for line in file_obj]\n",
    "# .strip() Возвращает копию указанной строки, с обоих концов которой устранены указанные символы."
   ]
  },
  {
   "cell_type": "markdown",
   "metadata": {},
   "source": [
    "Производим токенизацию, то есть разбиение текстов на слова. Для этого можно воспользоваться регулярным выражением, которое считает разделителем любой символ, не являющийся буквой: re.split('[^a-z]', t)."
   ]
  },
  {
   "cell_type": "code",
   "execution_count": 13,
   "metadata": {},
   "outputs": [
    {
     "name": "stdout",
     "output_type": "stream",
     "text": [
      "['in', 'comparison', 'to', 'dogs', '', 'cats', 'have', 'not', 'undergone', 'major', 'changes', 'during', 'the', 'domestication', 'process', '']\n"
     ]
    }
   ],
   "source": [
    "regexp = re.compile('[^a-z]') # Компилим регулярное выражение\n",
    "print(re.split(regexp ,sentences[0]))\n",
    "sentence = [[word for word in re.split(regexp, line) if word] for line in sentences]"
   ]
  },
  {
   "cell_type": "markdown",
   "metadata": {},
   "source": [
    "Генерируем словарь слов из листа присваивая им индексы"
   ]
  },
  {
   "cell_type": "code",
   "execution_count": 16,
   "metadata": {},
   "outputs": [
    {
     "name": "stdout",
     "output_type": "stream",
     "text": [
      "254\n"
     ]
    }
   ],
   "source": [
    "# Из ряда итерируемых делает один итерируемый (конкатенация листов например)\n",
    "words = {word: index for index, word in enumerate(set(chain(*sentence)))}\n",
    "word = {word: index for index, word in enumerate([\"hello\", \"world\"])}\n",
    "print(len(words))"
   ]
  },
  {
   "cell_type": "markdown",
   "metadata": {},
   "source": [
    "Создаем матрицу размера n * d, где n — число предложений. "
   ]
  },
  {
   "cell_type": "code",
   "execution_count": 8,
   "metadata": {},
   "outputs": [
    {
     "data": {
      "text/plain": [
       "(22, 254)"
      ]
     },
     "execution_count": 8,
     "metadata": {},
     "output_type": "execute_result"
    }
   ],
   "source": [
    "matrix = np.zeros((len(sentences), len(words)))\n",
    "matrix.shape"
   ]
  },
  {
   "cell_type": "code",
   "execution_count": 17,
   "metadata": {},
   "outputs": [
    {
     "name": "stdout",
     "output_type": "stream",
     "text": [
      "[[2. 0. 0. ... 0. 0. 0.]\n",
      " [0. 0. 0. ... 2. 0. 0.]\n",
      " [0. 0. 0. ... 0. 4. 0.]\n",
      " ...\n",
      " [0. 0. 0. ... 0. 0. 0.]\n",
      " [0. 0. 0. ... 0. 0. 0.]\n",
      " [0. 0. 0. ... 0. 0. 0.]]\n"
     ]
    }
   ],
   "source": [
    "for i in range(len(sentences)): # Заполняем матрицу\n",
    "    for j in sentence[i]:\n",
    "        matrix[i][words[j]] += 1\n",
    "print(matrix)"
   ]
  },
  {
   "cell_type": "markdown",
   "metadata": {},
   "source": [
    "Косинусная близость - косинус угла между 2 векторами"
   ]
  },
  {
   "cell_type": "code",
   "execution_count": 10,
   "metadata": {},
   "outputs": [
    {
     "name": "stdout",
     "output_type": "stream",
     "text": [
      "[(0, 0.0), (1, 0.9527544408738466), (2, 0.8644738145642124), (3, 0.8951715163278082), (4, 0.7770887149698589), (5, 0.9402385695332803), (6, 0.7327387580875756), (7, 0.9258750683338899), (8, 0.8842724875284311), (9, 0.9055088817476932), (10, 0.8328165362273942), (11, 0.8804771390665607), (12, 0.8396432548525454), (13, 0.8703592552895671), (14, 0.8740118423302576), (15, 0.9442721787424647), (16, 0.8406361854220809), (17, 0.956644501523794), (18, 0.9442721787424647), (19, 0.8885443574849294), (20, 0.8427572744917122), (21, 0.8250364469440588)]\n",
      "6 4\n"
     ]
    }
   ],
   "source": [
    "distances = [(index, scipy.spatial.distance.cosine(matrix[0], matrix[index])) for index in range(len(sentences))]\n",
    "print(distances)\n",
    "sorted_distance = sorted(distances, key=lambda x: x[1])\n",
    "print(sorted_distance[1][0], sorted_distance[2][0])"
   ]
  },
  {
   "cell_type": "code",
   "execution_count": 12,
   "metadata": {},
   "outputs": [
    {
     "name": "stdout",
     "output_type": "stream",
     "text": [
      "[(6, 0.7327387580875756), (4, 0.7770887149698589)]\n"
     ]
    }
   ],
   "source": [
    "print(sorted_distance[1:3])"
   ]
  },
  {
   "cell_type": "code",
   "execution_count": 11,
   "metadata": {},
   "outputs": [
    {
     "name": "stdout",
     "output_type": "stream",
     "text": [
      "domestic cats are similar in size to the other members of the genus felis, typically weighing between 4 and 5 kg (8.8 and 11.0 lb).\n",
      "in one, people deliberately tamed cats in a process of artificial selection, as they were useful predators of vermin.\n"
     ]
    }
   ],
   "source": [
    "print(sentences[sorted_distance[1][0]])\n",
    "print(sentences[sorted_distance[2][0]])"
   ]
  }
 ],
 "metadata": {
  "kernelspec": {
   "display_name": "Python 3",
   "language": "python",
   "name": "python3"
  },
  "language_info": {
   "codemirror_mode": {
    "name": "ipython",
    "version": 3
   },
   "file_extension": ".py",
   "mimetype": "text/x-python",
   "name": "python",
   "nbconvert_exporter": "python",
   "pygments_lexer": "ipython3",
   "version": "3.7.4"
  }
 },
 "nbformat": 4,
 "nbformat_minor": 2
}
